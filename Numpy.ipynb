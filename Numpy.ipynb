{
 "cells": [
  {
   "cell_type": "code",
   "execution_count": 7,
   "id": "71810067-d27e-436e-9467-d4ee34ff22ec",
   "metadata": {},
   "outputs": [],
   "source": [
    "import numpy as np"
   ]
  },
  {
   "cell_type": "code",
   "execution_count": 8,
   "id": "a029a3a7-7f88-4def-a869-fc3e335e2fd2",
   "metadata": {},
   "outputs": [],
   "source": [
    "lista = [1, 2, 3, 4, 5, 6]\n",
    "\n",
    "array = np.array(lista)"
   ]
  },
  {
   "cell_type": "code",
   "execution_count": 12,
   "id": "48ee2157-92c6-4355-a9b7-2fe942532f6b",
   "metadata": {},
   "outputs": [
    {
     "name": "stdout",
     "output_type": "stream",
     "text": [
      "<class 'list'>\n",
      "<class 'numpy.ndarray'>\n"
     ]
    }
   ],
   "source": [
    "print(type(lista))\n",
    "print(type(array))"
   ]
  },
  {
   "cell_type": "code",
   "execution_count": 13,
   "id": "5d686ecd-7b7d-4dd2-8b91-3e8dcb417e36",
   "metadata": {},
   "outputs": [
    {
     "name": "stdout",
     "output_type": "stream",
     "text": [
      "[0. 0. 0. 0. 0. 0. 0. 0. 0. 0.]\n"
     ]
    }
   ],
   "source": [
    "arr_zeros = np.zeros(10)\n",
    "\n",
    "print(arr_zeros)"
   ]
  },
  {
   "cell_type": "code",
   "execution_count": 14,
   "id": "762c8553-0365-4090-9f40-c3e919c3d43d",
   "metadata": {},
   "outputs": [
    {
     "name": "stdout",
     "output_type": "stream",
     "text": [
      "[9 2 3 4 5 6]\n"
     ]
    }
   ],
   "source": [
    "array[0] = 9\n",
    "print(array)"
   ]
  },
  {
   "cell_type": "code",
   "execution_count": 15,
   "id": "fb54eb93-dec0-4795-bc61-65cc04042521",
   "metadata": {},
   "outputs": [
    {
     "name": "stdout",
     "output_type": "stream",
     "text": [
      "[[0. 0. 0.]\n",
      " [0. 0. 0.]\n",
      " [0. 0. 0.]\n",
      " [0. 0. 0.]\n",
      " [0. 0. 0.]]\n"
     ]
    }
   ],
   "source": [
    "## Matrizes\n",
    "matriz_zeros = np.zeros((5,3))\n",
    "print(matriz_zeros)"
   ]
  },
  {
   "cell_type": "code",
   "execution_count": 33,
   "id": "07aff45c-9f7a-46f5-96f9-6293a22721aa",
   "metadata": {},
   "outputs": [
    {
     "name": "stdout",
     "output_type": "stream",
     "text": [
      "[9.8, 5.6, 7.8, 9.1, 6.5]\n",
      "[9.8 5.6 7.8 9.1 6.5]\n"
     ]
    }
   ],
   "source": [
    "## Notas de alunos\n",
    "lista_de_notas = [9.8, 5.6, 7.8, 9.1, 6.5]\n",
    "print(lista_de_notas)\n",
    "\n",
    "notas = np.array(lista_de_notas)\n",
    "print(notas)"
   ]
  },
  {
   "cell_type": "code",
   "execution_count": 18,
   "id": "982d8bd1-d456-4c35-b87e-93f11eebd994",
   "metadata": {},
   "outputs": [
    {
     "name": "stdout",
     "output_type": "stream",
     "text": [
      "Maximo 9.8\n",
      "Minimo 5.6\n",
      "Media 7.76\n",
      "Desvio Padrão 1.5628179676469045\n",
      "Posicao menor 1\n"
     ]
    }
   ],
   "source": [
    "print(\"Maximo\", notas.max())\n",
    "print(\"Minimo\", notas.min())\n",
    "print(\"Media\", notas.mean())\n",
    "print(\"Desvio Padrão\", notas.std())\n",
    "print(\"Posicao menor\", notas.argmin())"
   ]
  },
  {
   "cell_type": "code",
   "execution_count": 19,
   "id": "9c07ebdb-a0c5-4371-b5bc-be3a7d83d0d4",
   "metadata": {},
   "outputs": [],
   "source": [
    "# Exercicio - Criar um programa que peça ao usuário para digitar 5 notas e realizar alguns calculos\n",
    "# 1 - Criar uma lista e adicionar os elementos a ela.\n",
    "# 2 - Transformar a lista em um array.\n",
    "# 3 - Realizar calculos com a lista de array(Minimo, Máximo, Média e Desvio Padrão)"
   ]
  },
  {
   "cell_type": "code",
   "execution_count": 30,
   "id": "1f4bf65a-a6ea-4d5c-9431-05d714c0cc55",
   "metadata": {},
   "outputs": [
    {
     "name": "stdin",
     "output_type": "stream",
     "text": [
      "Insira a 1º nota:  7.5\n",
      "Insira a 2º nota:  4\n",
      "Insira a 3º nota:  6.8\n",
      "Insira a 4º nota:  9\n",
      "Insira a 5º nota:  4.5\n"
     ]
    },
    {
     "name": "stdout",
     "output_type": "stream",
     "text": [
      "[7.5, 4.0, 6.8, 9.0, 4.5]\n"
     ]
    }
   ],
   "source": [
    "ex_lista = []\n",
    "for i in range(5):\n",
    "    ex_lista.append(float(input(f'Insira a {i+1}º nota: ')))\n",
    "print(ex_lista)"
   ]
  },
  {
   "cell_type": "code",
   "execution_count": 31,
   "id": "23b89ee3-476d-425d-a34b-9821bd3f1fa9",
   "metadata": {},
   "outputs": [
    {
     "name": "stdout",
     "output_type": "stream",
     "text": [
      "[7.5 4.  6.8 9.  4.5]\n"
     ]
    }
   ],
   "source": [
    "notas_array = np.array(ex_lista)\n",
    "print(notas_array)"
   ]
  },
  {
   "cell_type": "code",
   "execution_count": 39,
   "id": "acb3c0c7-97a9-4e5c-976d-152e5b7e4cce",
   "metadata": {},
   "outputs": [
    {
     "name": "stdout",
     "output_type": "stream",
     "text": [
      "Máximo: 9.0\n",
      "Minimo: 4.0\n",
      "Média: 6.36\n",
      "Desvio Padrão: 1.87040102651811\n",
      "Posição da Menor Nota: 2 º posição.\n"
     ]
    }
   ],
   "source": [
    "print(\"Máximo:\", notas_array.max())\n",
    "print(\"Minimo:\", notas_array.min())\n",
    "print(\"Média:\", notas_array.mean())\n",
    "print(\"Desvio Padrão:\", notas_array.std())\n",
    "print(\"Posição da Menor Nota:\", (notas_array.argmin()+1),'º posição.')"
   ]
  },
  {
   "cell_type": "code",
   "execution_count": null,
   "id": "9ac34954-a6b1-41f5-b964-942d76335ac7",
   "metadata": {},
   "outputs": [],
   "source": []
  }
 ],
 "metadata": {
  "kernelspec": {
   "display_name": "Python 3 (ipykernel)",
   "language": "python",
   "name": "python3"
  },
  "language_info": {
   "codemirror_mode": {
    "name": "ipython",
    "version": 3
   },
   "file_extension": ".py",
   "mimetype": "text/x-python",
   "name": "python",
   "nbconvert_exporter": "python",
   "pygments_lexer": "ipython3",
   "version": "3.11.7"
  }
 },
 "nbformat": 4,
 "nbformat_minor": 5
}
