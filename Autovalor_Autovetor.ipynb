{
  "nbformat": 4,
  "nbformat_minor": 0,
  "metadata": {
    "colab": {
      "provenance": [],
      "authorship_tag": "ABX9TyNdIPqnUqdgy4eyzQcK1xe6",
      "include_colab_link": true
    },
    "kernelspec": {
      "name": "python3",
      "display_name": "Python 3"
    },
    "language_info": {
      "name": "python"
    }
  },
  "cells": [
    {
      "cell_type": "markdown",
      "metadata": {
        "id": "view-in-github",
        "colab_type": "text"
      },
      "source": [
        "<a href=\"https://colab.research.google.com/github/gihAzevedo/SantanderCoders/blob/main/Autovalor_Autovetor.ipynb\" target=\"_parent\"><img src=\"https://colab.research.google.com/assets/colab-badge.svg\" alt=\"Open In Colab\"/></a>"
      ]
    },
    {
      "cell_type": "code",
      "execution_count": 1,
      "metadata": {
        "id": "QrhNIM0pvoMI"
      },
      "outputs": [],
      "source": [
        "import numpy as np"
      ]
    },
    {
      "cell_type": "code",
      "source": [
        "# Definindo a matriz A\n",
        "A = np.array([[6, -1], [2, 3]])"
      ],
      "metadata": {
        "id": "_GKu8S80Ptc-"
      },
      "execution_count": 2,
      "outputs": []
    },
    {
      "cell_type": "code",
      "source": [
        "# Calculando os autovalores e autovetores\n",
        "autovalores, autovetores = np.linalg.eig(A)"
      ],
      "metadata": {
        "id": "Ui3YdefSP4by"
      },
      "execution_count": 3,
      "outputs": []
    },
    {
      "cell_type": "code",
      "source": [
        "# Criando matriz diagonal com autovalores\n",
        "matriz_diagonal = np.diag(autovalores)"
      ],
      "metadata": {
        "id": "Wz8xev3qQDue"
      },
      "execution_count": 5,
      "outputs": []
    },
    {
      "cell_type": "code",
      "source": [
        "# Imprimindo os autovalores\n",
        "print(\"Autovalores:\")\n",
        "print(autovalores)"
      ],
      "metadata": {
        "colab": {
          "base_uri": "https://localhost:8080/"
        },
        "id": "6d_HaZNBQNZm",
        "outputId": "9cd30e6b-6fc9-46e3-9687-64fb96c4ff62"
      },
      "execution_count": 6,
      "outputs": [
        {
          "output_type": "stream",
          "name": "stdout",
          "text": [
            "Autovalores:\n",
            "[5. 4.]\n"
          ]
        }
      ]
    },
    {
      "cell_type": "code",
      "source": [
        "# Imprimindo os autovetores\n",
        "print(\"Autovetores:\")\n",
        "print(autovetores)"
      ],
      "metadata": {
        "colab": {
          "base_uri": "https://localhost:8080/"
        },
        "id": "UIa8P6LdQX3q",
        "outputId": "aaf88e43-c326-45f3-ec8b-908e1ab051af"
      },
      "execution_count": 7,
      "outputs": [
        {
          "output_type": "stream",
          "name": "stdout",
          "text": [
            "Autovetores:\n",
            "[[0.70710678 0.4472136 ]\n",
            " [0.70710678 0.89442719]]\n"
          ]
        }
      ]
    },
    {
      "cell_type": "code",
      "source": [
        "print(\"\\nMatriz Diagonal: \\n\", matriz_diagonal)"
      ],
      "metadata": {
        "colab": {
          "base_uri": "https://localhost:8080/"
        },
        "id": "EFOmfmU_QhOb",
        "outputId": "77fddd49-717e-4dfa-85ea-087ca0e69e43"
      },
      "execution_count": 8,
      "outputs": [
        {
          "output_type": "stream",
          "name": "stdout",
          "text": [
            "\n",
            "Matriz Diagonal: \n",
            " [[5. 0.]\n",
            " [0. 4.]]\n"
          ]
        }
      ]
    },
    {
      "cell_type": "code",
      "source": [
        "# o primeiro autovalor[0] e autovetor associado é a coluna autovetores[:,0]\n",
        "primeiro_autovalor = autovalores[0]\n",
        "autovetor_associado = autovetores[:,0]\n",
        "\n",
        "print(f'Primeiro Autovalor: {primeiro_autovalor}')\n",
        "print(f'Autovetor associado ao primeiro autovalor: {autovetor_associado}')\n",
        "print(f'Dividindo por {autovetor_associado[0]}, {autovetor_associado/autovetor_associado[0]}')\n",
        "\n",
        "# Segundo autovalor[1] e autovetor associado é a coluna autovetores[:,1]\n",
        "segundo_autovalor = autovalores[1]\n",
        "autovetor_associado = autovetores[:,1]\n",
        "\n",
        "print(f'Segundo Autovalor: {segundo_autovalor}')\n",
        "print(f'Autovetor associado ao segundo autovalor: {autovetor_associado}')\n",
        "print(f'Dividindo por {autovetor_associado[0]}, {autovetor_associado/autovetor_associado[0]}')"
      ],
      "metadata": {
        "colab": {
          "base_uri": "https://localhost:8080/"
        },
        "id": "b-3FBca_Qsij",
        "outputId": "29ce9eb4-41d8-4f09-8770-2dd36e762897"
      },
      "execution_count": 11,
      "outputs": [
        {
          "output_type": "stream",
          "name": "stdout",
          "text": [
            "Primeiro Autovalor: 5.0\n",
            "Autovetor associado ao primeiro autovalor: [0.70710678 0.70710678]\n",
            "Dividindo por 0.7071067811865475, [1. 1.]\n",
            "Segundo Autovalor: 4.0\n",
            "Autovetor associado ao segundo autovalor: [0.4472136  0.89442719]\n",
            "Dividindo por 0.4472135954999579, [1. 2.]\n"
          ]
        }
      ]
    },
    {
      "cell_type": "code",
      "source": [],
      "metadata": {
        "id": "CnfkYHkXRpdk"
      },
      "execution_count": null,
      "outputs": []
    }
  ]
}