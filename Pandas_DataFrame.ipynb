{
 "cells": [
  {
   "cell_type": "code",
   "execution_count": 1,
   "id": "8346ce0c-5d4e-4918-8896-01ce7ceebf9d",
   "metadata": {},
   "outputs": [],
   "source": [
    "import pandas as pd"
   ]
  },
  {
   "cell_type": "code",
   "execution_count": 2,
   "id": "d46c9433-0293-41e2-b727-25283834a8b1",
   "metadata": {},
   "outputs": [],
   "source": [
    "# Cria um dicionário com autores, preços e titulos\n",
    "dictionary = {'Autores': ['Rick Riordan', 'JK Rowling', 'Andrea Del Fuego', 'JK Rowling'],\n",
    "              'Titulos': ['O Ladrão de Raios', 'A Pedra Filosofal', 'A Sociedade da Caveira de Cristal', 'O Prisioneiro de Azkaban'],\n",
    "              'Preços': [36.65, 37.74, 39.90, 44.97]}"
   ]
  },
  {
   "cell_type": "code",
   "execution_count": 3,
   "id": "eb224f50-fdc1-4d1b-99f5-6f51f2bd23bb",
   "metadata": {},
   "outputs": [],
   "source": [
    "## DataFrame == Tabela\n",
    "\n",
    "df = pd.DataFrame(dictionary)"
   ]
  },
  {
   "cell_type": "code",
   "execution_count": 4,
   "id": "b56340b6-1263-4679-a2d4-9981c7104d77",
   "metadata": {},
   "outputs": [
    {
     "data": {
      "text/html": [
       "<div>\n",
       "<style scoped>\n",
       "    .dataframe tbody tr th:only-of-type {\n",
       "        vertical-align: middle;\n",
       "    }\n",
       "\n",
       "    .dataframe tbody tr th {\n",
       "        vertical-align: top;\n",
       "    }\n",
       "\n",
       "    .dataframe thead th {\n",
       "        text-align: right;\n",
       "    }\n",
       "</style>\n",
       "<table border=\"1\" class=\"dataframe\">\n",
       "  <thead>\n",
       "    <tr style=\"text-align: right;\">\n",
       "      <th></th>\n",
       "      <th>Autores</th>\n",
       "      <th>Titulos</th>\n",
       "      <th>Preços</th>\n",
       "    </tr>\n",
       "  </thead>\n",
       "  <tbody>\n",
       "    <tr>\n",
       "      <th>0</th>\n",
       "      <td>Rick Riordan</td>\n",
       "      <td>O Ladrão de Raios</td>\n",
       "      <td>36.65</td>\n",
       "    </tr>\n",
       "    <tr>\n",
       "      <th>1</th>\n",
       "      <td>JK Rowling</td>\n",
       "      <td>A Pedra Filosofal</td>\n",
       "      <td>37.74</td>\n",
       "    </tr>\n",
       "    <tr>\n",
       "      <th>2</th>\n",
       "      <td>Andrea Del Fuego</td>\n",
       "      <td>A Sociedade da Caveira de Cristal</td>\n",
       "      <td>39.90</td>\n",
       "    </tr>\n",
       "    <tr>\n",
       "      <th>3</th>\n",
       "      <td>JK Rowling</td>\n",
       "      <td>O Prisioneiro de Azkaban</td>\n",
       "      <td>44.97</td>\n",
       "    </tr>\n",
       "  </tbody>\n",
       "</table>\n",
       "</div>"
      ],
      "text/plain": [
       "            Autores                            Titulos  Preços\n",
       "0      Rick Riordan                  O Ladrão de Raios   36.65\n",
       "1        JK Rowling                  A Pedra Filosofal   37.74\n",
       "2  Andrea Del Fuego  A Sociedade da Caveira de Cristal   39.90\n",
       "3        JK Rowling           O Prisioneiro de Azkaban   44.97"
      ]
     },
     "execution_count": 4,
     "metadata": {},
     "output_type": "execute_result"
    }
   ],
   "source": [
    "df"
   ]
  },
  {
   "cell_type": "code",
   "execution_count": 5,
   "id": "bdf41c23-e4ef-45b5-86d2-ed0ac5feed31",
   "metadata": {},
   "outputs": [
    {
     "data": {
      "text/plain": [
       "'JK Rowling'"
      ]
     },
     "execution_count": 5,
     "metadata": {},
     "output_type": "execute_result"
    }
   ],
   "source": [
    "df['Autores'][1]"
   ]
  },
  {
   "cell_type": "code",
   "execution_count": 7,
   "id": "1845c22e-f73d-49a6-b21c-cb4719f13644",
   "metadata": {},
   "outputs": [
    {
     "data": {
      "text/plain": [
       "0    36.65\n",
       "1    37.74\n",
       "2    39.90\n",
       "3    44.97\n",
       "Name: Preços, dtype: float64"
      ]
     },
     "execution_count": 7,
     "metadata": {},
     "output_type": "execute_result"
    }
   ],
   "source": [
    "df['Preços']"
   ]
  },
  {
   "cell_type": "code",
   "execution_count": 9,
   "id": "ecbadde7-5067-481d-8f34-144881abb628",
   "metadata": {},
   "outputs": [],
   "source": [
    "mascara = (df['Autores'] == 'JK Rowling')"
   ]
  },
  {
   "cell_type": "code",
   "execution_count": 10,
   "id": "80df19f1-e7c8-4290-8114-113ff75a9879",
   "metadata": {},
   "outputs": [
    {
     "data": {
      "text/html": [
       "<div>\n",
       "<style scoped>\n",
       "    .dataframe tbody tr th:only-of-type {\n",
       "        vertical-align: middle;\n",
       "    }\n",
       "\n",
       "    .dataframe tbody tr th {\n",
       "        vertical-align: top;\n",
       "    }\n",
       "\n",
       "    .dataframe thead th {\n",
       "        text-align: right;\n",
       "    }\n",
       "</style>\n",
       "<table border=\"1\" class=\"dataframe\">\n",
       "  <thead>\n",
       "    <tr style=\"text-align: right;\">\n",
       "      <th></th>\n",
       "      <th>Autores</th>\n",
       "      <th>Titulos</th>\n",
       "      <th>Preços</th>\n",
       "    </tr>\n",
       "  </thead>\n",
       "  <tbody>\n",
       "    <tr>\n",
       "      <th>1</th>\n",
       "      <td>JK Rowling</td>\n",
       "      <td>A Pedra Filosofal</td>\n",
       "      <td>37.74</td>\n",
       "    </tr>\n",
       "    <tr>\n",
       "      <th>3</th>\n",
       "      <td>JK Rowling</td>\n",
       "      <td>O Prisioneiro de Azkaban</td>\n",
       "      <td>44.97</td>\n",
       "    </tr>\n",
       "  </tbody>\n",
       "</table>\n",
       "</div>"
      ],
      "text/plain": [
       "      Autores                   Titulos  Preços\n",
       "1  JK Rowling         A Pedra Filosofal   37.74\n",
       "3  JK Rowling  O Prisioneiro de Azkaban   44.97"
      ]
     },
     "execution_count": 10,
     "metadata": {},
     "output_type": "execute_result"
    }
   ],
   "source": [
    "df[mascara]"
   ]
  },
  {
   "cell_type": "code",
   "execution_count": 14,
   "id": "9b3b190b-8291-4ad8-aa3b-cf4c70d61d20",
   "metadata": {},
   "outputs": [],
   "source": [
    "df = pd.concat([df, pd.DataFrame([{'Autores': 'JK Rowling', 'Titulos': 'O Enigma do Principe', 'Preços': 57.82}])], ignore_index=True)"
   ]
  },
  {
   "cell_type": "code",
   "execution_count": 15,
   "id": "5d0b529d-606c-4cd2-92d8-96d35b4054a7",
   "metadata": {},
   "outputs": [
    {
     "data": {
      "text/html": [
       "<div>\n",
       "<style scoped>\n",
       "    .dataframe tbody tr th:only-of-type {\n",
       "        vertical-align: middle;\n",
       "    }\n",
       "\n",
       "    .dataframe tbody tr th {\n",
       "        vertical-align: top;\n",
       "    }\n",
       "\n",
       "    .dataframe thead th {\n",
       "        text-align: right;\n",
       "    }\n",
       "</style>\n",
       "<table border=\"1\" class=\"dataframe\">\n",
       "  <thead>\n",
       "    <tr style=\"text-align: right;\">\n",
       "      <th></th>\n",
       "      <th>Autores</th>\n",
       "      <th>Titulos</th>\n",
       "      <th>Preços</th>\n",
       "    </tr>\n",
       "  </thead>\n",
       "  <tbody>\n",
       "    <tr>\n",
       "      <th>0</th>\n",
       "      <td>Rick Riordan</td>\n",
       "      <td>O Ladrão de Raios</td>\n",
       "      <td>36.65</td>\n",
       "    </tr>\n",
       "    <tr>\n",
       "      <th>1</th>\n",
       "      <td>JK Rowling</td>\n",
       "      <td>A Pedra Filosofal</td>\n",
       "      <td>37.74</td>\n",
       "    </tr>\n",
       "    <tr>\n",
       "      <th>2</th>\n",
       "      <td>Andrea Del Fuego</td>\n",
       "      <td>A Sociedade da Caveira de Cristal</td>\n",
       "      <td>39.90</td>\n",
       "    </tr>\n",
       "    <tr>\n",
       "      <th>3</th>\n",
       "      <td>JK Rowling</td>\n",
       "      <td>O Prisioneiro de Azkaban</td>\n",
       "      <td>44.97</td>\n",
       "    </tr>\n",
       "    <tr>\n",
       "      <th>4</th>\n",
       "      <td>JK Rowling</td>\n",
       "      <td>O Enigma do Principe</td>\n",
       "      <td>57.82</td>\n",
       "    </tr>\n",
       "  </tbody>\n",
       "</table>\n",
       "</div>"
      ],
      "text/plain": [
       "            Autores                            Titulos  Preços\n",
       "0      Rick Riordan                  O Ladrão de Raios   36.65\n",
       "1        JK Rowling                  A Pedra Filosofal   37.74\n",
       "2  Andrea Del Fuego  A Sociedade da Caveira de Cristal   39.90\n",
       "3        JK Rowling           O Prisioneiro de Azkaban   44.97\n",
       "4        JK Rowling               O Enigma do Principe   57.82"
      ]
     },
     "execution_count": 15,
     "metadata": {},
     "output_type": "execute_result"
    }
   ],
   "source": [
    "df"
   ]
  },
  {
   "cell_type": "code",
   "execution_count": 16,
   "id": "82fa191d-0db7-41b0-a926-b953bf202a53",
   "metadata": {},
   "outputs": [],
   "source": [
    "mascara_correcao = df['Titulos'] == 'A Sociedade da Caveira de Cristal'"
   ]
  },
  {
   "cell_type": "code",
   "execution_count": 19,
   "id": "38fb34ee-d1a7-4d25-8457-4b4d80a64198",
   "metadata": {},
   "outputs": [],
   "source": [
    "df.loc[mascara_correcao, 'Titulos'] = 'A Pediatra'"
   ]
  },
  {
   "cell_type": "code",
   "execution_count": 20,
   "id": "33405f20-0d27-45fa-9536-9d2ada0412e4",
   "metadata": {},
   "outputs": [
    {
     "data": {
      "text/html": [
       "<div>\n",
       "<style scoped>\n",
       "    .dataframe tbody tr th:only-of-type {\n",
       "        vertical-align: middle;\n",
       "    }\n",
       "\n",
       "    .dataframe tbody tr th {\n",
       "        vertical-align: top;\n",
       "    }\n",
       "\n",
       "    .dataframe thead th {\n",
       "        text-align: right;\n",
       "    }\n",
       "</style>\n",
       "<table border=\"1\" class=\"dataframe\">\n",
       "  <thead>\n",
       "    <tr style=\"text-align: right;\">\n",
       "      <th></th>\n",
       "      <th>Autores</th>\n",
       "      <th>Titulos</th>\n",
       "      <th>Preços</th>\n",
       "    </tr>\n",
       "  </thead>\n",
       "  <tbody>\n",
       "    <tr>\n",
       "      <th>0</th>\n",
       "      <td>Rick Riordan</td>\n",
       "      <td>O Ladrão de Raios</td>\n",
       "      <td>36.65</td>\n",
       "    </tr>\n",
       "    <tr>\n",
       "      <th>1</th>\n",
       "      <td>JK Rowling</td>\n",
       "      <td>A Pedra Filosofal</td>\n",
       "      <td>37.74</td>\n",
       "    </tr>\n",
       "    <tr>\n",
       "      <th>2</th>\n",
       "      <td>Andrea Del Fuego</td>\n",
       "      <td>A Pediatra</td>\n",
       "      <td>39.90</td>\n",
       "    </tr>\n",
       "    <tr>\n",
       "      <th>3</th>\n",
       "      <td>JK Rowling</td>\n",
       "      <td>O Prisioneiro de Azkaban</td>\n",
       "      <td>44.97</td>\n",
       "    </tr>\n",
       "    <tr>\n",
       "      <th>4</th>\n",
       "      <td>JK Rowling</td>\n",
       "      <td>O Enigma do Principe</td>\n",
       "      <td>57.82</td>\n",
       "    </tr>\n",
       "  </tbody>\n",
       "</table>\n",
       "</div>"
      ],
      "text/plain": [
       "            Autores                   Titulos  Preços\n",
       "0      Rick Riordan         O Ladrão de Raios   36.65\n",
       "1        JK Rowling         A Pedra Filosofal   37.74\n",
       "2  Andrea Del Fuego                A Pediatra   39.90\n",
       "3        JK Rowling  O Prisioneiro de Azkaban   44.97\n",
       "4        JK Rowling      O Enigma do Principe   57.82"
      ]
     },
     "execution_count": 20,
     "metadata": {},
     "output_type": "execute_result"
    }
   ],
   "source": [
    "df"
   ]
  },
  {
   "cell_type": "code",
   "execution_count": null,
   "id": "148a1a62-c698-4923-87ab-4f4729e080f4",
   "metadata": {},
   "outputs": [],
   "source": []
  }
 ],
 "metadata": {
  "kernelspec": {
   "display_name": "Python 3 (ipykernel)",
   "language": "python",
   "name": "python3"
  },
  "language_info": {
   "codemirror_mode": {
    "name": "ipython",
    "version": 3
   },
   "file_extension": ".py",
   "mimetype": "text/x-python",
   "name": "python",
   "nbconvert_exporter": "python",
   "pygments_lexer": "ipython3",
   "version": "3.11.7"
  }
 },
 "nbformat": 4,
 "nbformat_minor": 5
}
