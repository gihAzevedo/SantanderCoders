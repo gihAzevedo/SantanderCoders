{
  "nbformat": 4,
  "nbformat_minor": 0,
  "metadata": {
    "colab": {
      "provenance": [],
      "authorship_tag": "ABX9TyMtVUbpT6KRdDEbsw9Cnago",
      "include_colab_link": true
    },
    "kernelspec": {
      "name": "python3",
      "display_name": "Python 3"
    },
    "language_info": {
      "name": "python"
    }
  },
  "cells": [
    {
      "cell_type": "markdown",
      "metadata": {
        "id": "view-in-github",
        "colab_type": "text"
      },
      "source": [
        "<a href=\"https://colab.research.google.com/github/gihAzevedo/SantanderCoders/blob/main/La%C3%A7os_Repeti%C3%A7%C3%A3o(While).ipynb\" target=\"_parent\"><img src=\"https://colab.research.google.com/assets/colab-badge.svg\" alt=\"Open In Colab\"/></a>"
      ]
    },
    {
      "cell_type": "code",
      "execution_count": null,
      "metadata": {
        "id": "rfwGOMCHxDc_"
      },
      "outputs": [],
      "source": [
        "import random\n",
        "\n",
        "cont = 1\n",
        "numero_sorteado = random.randint(1, 10)\n",
        "numero_escolhido = int(input('Digite um número entre 1 e 10: '))\n",
        "while numero_sorteado != numero_escolhido:\n",
        "  cont+=1\n",
        "  print('Você errou o número, tente novamente...')\n",
        "  numero_escolhido = int(input('Digite um número entre 1 e 10: '))\n",
        "print(f'PARABÉNS! Você acertou o número sorteado: {numero_sorteado}.\\n Você acertou em {cont} tentativas.')"
      ]
    },
    {
      "cell_type": "code",
      "source": [
        "\n"
      ],
      "metadata": {
        "id": "-GM5LKTZPUEM"
      },
      "execution_count": null,
      "outputs": []
    }
  ]
}