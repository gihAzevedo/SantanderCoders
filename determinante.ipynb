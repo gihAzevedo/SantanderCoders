{
  "nbformat": 4,
  "nbformat_minor": 0,
  "metadata": {
    "colab": {
      "provenance": [],
      "authorship_tag": "ABX9TyNtC3Z/36//nt2f41dpGIYO",
      "include_colab_link": true
    },
    "kernelspec": {
      "name": "python3",
      "display_name": "Python 3"
    },
    "language_info": {
      "name": "python"
    }
  },
  "cells": [
    {
      "cell_type": "markdown",
      "metadata": {
        "id": "view-in-github",
        "colab_type": "text"
      },
      "source": [
        "<a href=\"https://colab.research.google.com/github/gihAzevedo/SantanderCoders/blob/main/determinante.ipynb\" target=\"_parent\"><img src=\"https://colab.research.google.com/assets/colab-badge.svg\" alt=\"Open In Colab\"/></a>"
      ]
    },
    {
      "cell_type": "markdown",
      "source": [
        "##**Determinante**"
      ],
      "metadata": {
        "id": "wvAZGaeKG1_5"
      }
    },
    {
      "cell_type": "code",
      "execution_count": 1,
      "metadata": {
        "id": "g4dnyK1xGxUP"
      },
      "outputs": [],
      "source": [
        "import numpy as np"
      ]
    },
    {
      "cell_type": "code",
      "source": [
        "mA = np.array([[1,2], [3,4]])\n",
        "mA"
      ],
      "metadata": {
        "colab": {
          "base_uri": "https://localhost:8080/"
        },
        "id": "OAW4YgFpG_7J",
        "outputId": "92a3d8f8-35e9-4fcc-8cc1-064d09bc8091"
      },
      "execution_count": 3,
      "outputs": [
        {
          "output_type": "execute_result",
          "data": {
            "text/plain": [
              "array([[1, 2],\n",
              "       [3, 4]])"
            ]
          },
          "metadata": {},
          "execution_count": 3
        }
      ]
    },
    {
      "cell_type": "code",
      "source": [
        "# Calcula o determinante\n",
        "np.linalg.det(mA)"
      ],
      "metadata": {
        "colab": {
          "base_uri": "https://localhost:8080/"
        },
        "id": "nnvsPBFwHEcy",
        "outputId": "08aeb560-1c73-4d28-bd14-fe0c0b98a82c"
      },
      "execution_count": 5,
      "outputs": [
        {
          "output_type": "execute_result",
          "data": {
            "text/plain": [
              "-2.0000000000000004"
            ]
          },
          "metadata": {},
          "execution_count": 5
        }
      ]
    },
    {
      "cell_type": "code",
      "source": [
        "# Criar matriz aleatória de números inteiros\n",
        "mB = np.random.randint(0, 10, size = (4, 4))\n",
        "mB"
      ],
      "metadata": {
        "colab": {
          "base_uri": "https://localhost:8080/"
        },
        "id": "2PoiJ4QQHTQ_",
        "outputId": "9b1d94c6-364d-468f-ed1f-a09645980153"
      },
      "execution_count": 6,
      "outputs": [
        {
          "output_type": "execute_result",
          "data": {
            "text/plain": [
              "array([[0, 2, 9, 5],\n",
              "       [5, 8, 7, 7],\n",
              "       [9, 6, 7, 1],\n",
              "       [3, 0, 2, 5]])"
            ]
          },
          "metadata": {},
          "execution_count": 6
        }
      ]
    },
    {
      "cell_type": "code",
      "source": [
        "np.linalg.det(mB)"
      ],
      "metadata": {
        "colab": {
          "base_uri": "https://localhost:8080/"
        },
        "id": "02xYQBHXLdtn",
        "outputId": "eaf06319-8d0c-42b6-fc5c-597614d4ecd6"
      },
      "execution_count": 7,
      "outputs": [
        {
          "output_type": "execute_result",
          "data": {
            "text/plain": [
              "-2298.0"
            ]
          },
          "metadata": {},
          "execution_count": 7
        }
      ]
    },
    {
      "cell_type": "markdown",
      "source": [
        "## **Sistemas Lineares**\n",
        "Resolva a seguinte equação:\n",
        "\n",
        "2x + y = 4\n",
        "\n",
        "x + y = 3"
      ],
      "metadata": {
        "id": "cdE7h81VR9ip"
      }
    },
    {
      "cell_type": "code",
      "source": [
        "# Montando as matrizes\n",
        "a = np.array([[2, 1], [1, 1]])\n",
        "b = np.array([4, 3])"
      ],
      "metadata": {
        "id": "RWJp3U7zLjsL"
      },
      "execution_count": 11,
      "outputs": []
    },
    {
      "cell_type": "code",
      "source": [
        "# Precisa da inversa da matriz A\n",
        "a_inv = np.linalg.inv(a)\n",
        "a_inv"
      ],
      "metadata": {
        "colab": {
          "base_uri": "https://localhost:8080/"
        },
        "id": "mi8wShgBSiJa",
        "outputId": "4180c92f-657f-4387-ec95-25b1859a462c"
      },
      "execution_count": 12,
      "outputs": [
        {
          "output_type": "execute_result",
          "data": {
            "text/plain": [
              "array([[ 1., -1.],\n",
              "       [-1.,  2.]])"
            ]
          },
          "metadata": {},
          "execution_count": 12
        }
      ]
    },
    {
      "cell_type": "code",
      "source": [
        "# Basta multiplicar a Matriz B pela inversa da Matriz A\n",
        "resulMatriz = np.dot(a_inv, b)\n",
        "resulMatriz"
      ],
      "metadata": {
        "colab": {
          "base_uri": "https://localhost:8080/"
        },
        "id": "TqFeXQg_S2JY",
        "outputId": "ad9fba18-fd28-47ff-8116-3ea11c048248"
      },
      "execution_count": 13,
      "outputs": [
        {
          "output_type": "execute_result",
          "data": {
            "text/plain": [
              "array([1., 2.])"
            ]
          },
          "metadata": {},
          "execution_count": 13
        }
      ]
    },
    {
      "cell_type": "markdown",
      "source": [
        "Resolvendo utilizando o **Solve**"
      ],
      "metadata": {
        "id": "W-F16WlIUVQH"
      }
    },
    {
      "cell_type": "code",
      "source": [
        "resulMatrizSolve = np.linalg.solve(a, b)\n",
        "resulMatrizSolve"
      ],
      "metadata": {
        "colab": {
          "base_uri": "https://localhost:8080/"
        },
        "id": "wEDx2o5tTN0q",
        "outputId": "d6b20fe9-78ba-427d-800c-ded0b71339cb"
      },
      "execution_count": 14,
      "outputs": [
        {
          "output_type": "execute_result",
          "data": {
            "text/plain": [
              "array([1., 2.])"
            ]
          },
          "metadata": {},
          "execution_count": 14
        }
      ]
    },
    {
      "cell_type": "code",
      "source": [],
      "metadata": {
        "id": "Iku97CbFUkZj"
      },
      "execution_count": null,
      "outputs": []
    }
  ]
}