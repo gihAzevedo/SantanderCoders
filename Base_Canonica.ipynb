{
  "nbformat": 4,
  "nbformat_minor": 0,
  "metadata": {
    "colab": {
      "provenance": [],
      "authorship_tag": "ABX9TyOp1ragwLHywKYNhs3JmHQQ",
      "include_colab_link": true
    },
    "kernelspec": {
      "name": "python3",
      "display_name": "Python 3"
    },
    "language_info": {
      "name": "python"
    }
  },
  "cells": [
    {
      "cell_type": "markdown",
      "metadata": {
        "id": "view-in-github",
        "colab_type": "text"
      },
      "source": [
        "<a href=\"https://colab.research.google.com/github/gihAzevedo/SantanderCoders/blob/main/Base_Canonica.ipynb\" target=\"_parent\"><img src=\"https://colab.research.google.com/assets/colab-badge.svg\" alt=\"Open In Colab\"/></a>"
      ]
    },
    {
      "cell_type": "code",
      "execution_count": 1,
      "metadata": {
        "id": "yOusAxwHz7Fb"
      },
      "outputs": [],
      "source": [
        "import numpy as np"
      ]
    },
    {
      "cell_type": "code",
      "source": [
        "# Base canonica\n",
        "e1 = np.array([1, 0])\n",
        "e2 = np.array([0, 1])\n",
        "\n",
        "# Componentes dos vetores\n",
        "v1, v2 = (1, 3)\n",
        "w1, w2 = (2, -1)\n",
        "\n",
        "# Vetores expandidos na base canonica\n",
        "v = v1*e1 + v2*e2\n",
        "w = w1*e1 + w2*e2\n",
        "\n",
        "# Produto escalar diretamente\n",
        "prod_escalar = (v*w).sum()\n",
        "print(prod_escalar)\n",
        "\n",
        "# Produto escalar com a função dot\n",
        "\n",
        "prod_escalar_dot = np.dot(v, w)\n",
        "print(prod_escalar_dot)"
      ],
      "metadata": {
        "colab": {
          "base_uri": "https://localhost:8080/"
        },
        "id": "OtfdIYe40Akl",
        "outputId": "bea2970f-c454-47c8-9f27-69e5a15de0c4"
      },
      "execution_count": 4,
      "outputs": [
        {
          "output_type": "stream",
          "name": "stdout",
          "text": [
            "-1\n",
            "-1\n"
          ]
        }
      ]
    },
    {
      "cell_type": "code",
      "source": [],
      "metadata": {
        "id": "4PEsCLjq0IZG"
      },
      "execution_count": null,
      "outputs": []
    }
  ]
}