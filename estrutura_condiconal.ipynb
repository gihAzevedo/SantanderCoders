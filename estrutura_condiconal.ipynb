{
  "nbformat": 4,
  "nbformat_minor": 0,
  "metadata": {
    "colab": {
      "provenance": [],
      "authorship_tag": "ABX9TyP2z0dKjWzDnidfwpZ7l1W6",
      "include_colab_link": true
    },
    "kernelspec": {
      "name": "python3",
      "display_name": "Python 3"
    },
    "language_info": {
      "name": "python"
    }
  },
  "cells": [
    {
      "cell_type": "markdown",
      "metadata": {
        "id": "view-in-github",
        "colab_type": "text"
      },
      "source": [
        "<a href=\"https://colab.research.google.com/github/gihAzevedo/SantanderCoders/blob/main/estrutura_condiconal.ipynb\" target=\"_parent\"><img src=\"https://colab.research.google.com/assets/colab-badge.svg\" alt=\"Open In Colab\"/></a>"
      ]
    },
    {
      "cell_type": "code",
      "execution_count": 3,
      "metadata": {
        "id": "ufsuvUrEjP7X",
        "outputId": "43789b1c-5e40-4f34-ffe5-034e60e78020",
        "colab": {
          "base_uri": "https://localhost:8080/"
        }
      },
      "outputs": [
        {
          "output_type": "stream",
          "name": "stdout",
          "text": [
            "Digite a sua idade: 8\n",
            "Você possui 8 anos\n",
            "Você é MENOR de Idade\n"
          ]
        }
      ],
      "source": [
        "idade = int(input('Digite a sua idade: '))\n",
        "print(f'Você possui {idade} anos')\n",
        "if idade >= 18:\n",
        "  print('Você é MAIOR de Idade')\n",
        "else:\n",
        "  print('Você é MENOR de Idade')"
      ]
    },
    {
      "cell_type": "code",
      "source": [
        "\"\"\"\n",
        "Imagine que você queira imprimir \"Aprovado(a)\", caso o estudante tenha uma média\n",
        "superior ou igual a 7, e \"Reprovado\", caso seja inferior a 7.\n",
        "\"\"\""
      ],
      "metadata": {
        "id": "Bky-5IYUjstd"
      },
      "execution_count": null,
      "outputs": []
    },
    {
      "cell_type": "code",
      "source": [
        "notas = []\n",
        "\n",
        "for i in range(3):\n",
        "  notas.append(float(input(f\"Digite a {i+1}º nota: \")))\n",
        "media = (sum(notas))/(len(notas))\n",
        "print(f'A sua média é: {media:0.2f}')\n",
        "if media >= 7:\n",
        "  print(f'Vocé foi APROVADO!')\n",
        "elif media >= 5:\n",
        "  print(f'Vocé está de REUPERAÇÃO!')\n",
        "else:\n",
        "    print(f'Vocé foi REPROVADO!')"
      ],
      "metadata": {
        "colab": {
          "base_uri": "https://localhost:8080/"
        },
        "id": "XBS0Z-EhnjAY",
        "outputId": "e42c0be0-f0a8-4773-d353-54ad7c65a0c6"
      },
      "execution_count": 18,
      "outputs": [
        {
          "output_type": "stream",
          "name": "stdout",
          "text": [
            "Digite a 1º nota: 3\n",
            "Digite a 2º nota: 2\n",
            "Digite a 3º nota: 1\n",
            "A sua média é: 2.00\n",
            "Vocé foi REPROVADO!\n"
          ]
        }
      ]
    },
    {
      "cell_type": "code",
      "source": [],
      "metadata": {
        "id": "NLw_UQFroae8"
      },
      "execution_count": null,
      "outputs": []
    }
  ]
}