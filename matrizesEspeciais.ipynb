{
  "nbformat": 4,
  "nbformat_minor": 0,
  "metadata": {
    "colab": {
      "provenance": [],
      "authorship_tag": "ABX9TyOvfaIPlXncQIKqqZwO2hA7",
      "include_colab_link": true
    },
    "kernelspec": {
      "name": "python3",
      "display_name": "Python 3"
    },
    "language_info": {
      "name": "python"
    }
  },
  "cells": [
    {
      "cell_type": "markdown",
      "metadata": {
        "id": "view-in-github",
        "colab_type": "text"
      },
      "source": [
        "<a href=\"https://colab.research.google.com/github/gihAzevedo/SantanderCoders/blob/main/matrizesEspeciais.ipynb\" target=\"_parent\"><img src=\"https://colab.research.google.com/assets/colab-badge.svg\" alt=\"Open In Colab\"/></a>"
      ]
    },
    {
      "cell_type": "markdown",
      "source": [
        "## **Matriz Transposta**"
      ],
      "metadata": {
        "id": "RYCeNMZm5Cl4"
      }
    },
    {
      "cell_type": "code",
      "execution_count": 1,
      "metadata": {
        "id": "_Nek5vBn4jSQ"
      },
      "outputs": [],
      "source": [
        "import numpy as np"
      ]
    },
    {
      "cell_type": "code",
      "source": [
        "matrizA = np.array([[1, 2, 3], [4, 5, 6]])\n",
        "matrizA"
      ],
      "metadata": {
        "colab": {
          "base_uri": "https://localhost:8080/"
        },
        "id": "syITpSJE4olp",
        "outputId": "0d36e101-1d46-4f80-eb60-bc4aa9128a33"
      },
      "execution_count": 2,
      "outputs": [
        {
          "output_type": "execute_result",
          "data": {
            "text/plain": [
              "array([[1, 2, 3],\n",
              "       [4, 5, 6]])"
            ]
          },
          "metadata": {},
          "execution_count": 2
        }
      ]
    },
    {
      "cell_type": "code",
      "source": [
        "transporA = matrizA.transpose()\n",
        "print(transporA)\n",
        "# ou\n",
        "transporT = matrizA.T\n",
        "print(transporT)"
      ],
      "metadata": {
        "colab": {
          "base_uri": "https://localhost:8080/"
        },
        "id": "excXNHBH4yZu",
        "outputId": "8283f2ea-0096-4c64-87ca-6863b6137799"
      },
      "execution_count": 6,
      "outputs": [
        {
          "output_type": "stream",
          "name": "stdout",
          "text": [
            "[[1 4]\n",
            " [2 5]\n",
            " [3 6]]\n",
            "[[1 4]\n",
            " [2 5]\n",
            " [3 6]]\n"
          ]
        }
      ]
    },
    {
      "cell_type": "markdown",
      "source": [
        "## **Matriz Inversa**\n",
        "\n",
        "######Uma matriz(quadrada e o determinante diferente de Zero) que ao multiplicar pela matriz original ela resulta matriz identidade.\n",
        "##### A x A-¹ = Matriz Identidade"
      ],
      "metadata": {
        "id": "N3l1cj2W7Rbl"
      }
    },
    {
      "cell_type": "code",
      "source": [
        "# Exemplo Matriz\n",
        "matrizB = np.array([[2, 4], [8, 10]])\n",
        "matrizB"
      ],
      "metadata": {
        "colab": {
          "base_uri": "https://localhost:8080/"
        },
        "id": "plqoM9me45Qg",
        "outputId": "f1971a13-1fab-42ae-a04b-729eb31e53f7"
      },
      "execution_count": 11,
      "outputs": [
        {
          "output_type": "execute_result",
          "data": {
            "text/plain": [
              "array([[ 2,  4],\n",
              "       [ 8, 10]])"
            ]
          },
          "metadata": {},
          "execution_count": 11
        }
      ]
    },
    {
      "cell_type": "code",
      "source": [
        "# Calcular Determinante da Matriz\n",
        "\n",
        "np.linalg.det(matrizB)"
      ],
      "metadata": {
        "colab": {
          "base_uri": "https://localhost:8080/"
        },
        "id": "aPuJIDQU9Iwu",
        "outputId": "b8b2898f-b78c-4a75-ec89-a411a4723f21"
      },
      "execution_count": 12,
      "outputs": [
        {
          "output_type": "execute_result",
          "data": {
            "text/plain": [
              "-11.999999999999995"
            ]
          },
          "metadata": {},
          "execution_count": 12
        }
      ]
    },
    {
      "cell_type": "code",
      "source": [
        "# Calculando Matriz Inversa\n",
        "matrizInversa = np.linalg.inv(matrizB)\n",
        "matrizInversa"
      ],
      "metadata": {
        "colab": {
          "base_uri": "https://localhost:8080/"
        },
        "id": "GA9AHx709TYd",
        "outputId": "7301fa9b-5526-4992-b8c3-cfc274a48cc1"
      },
      "execution_count": 13,
      "outputs": [
        {
          "output_type": "execute_result",
          "data": {
            "text/plain": [
              "array([[-0.83333333,  0.33333333],\n",
              "       [ 0.66666667, -0.16666667]])"
            ]
          },
          "metadata": {},
          "execution_count": 13
        }
      ]
    },
    {
      "cell_type": "code",
      "source": [
        "# Calculando Matriz Identidade\n",
        "matrizIdentidade = np.dot(matrizB, matrizInversa)\n",
        "matrizIdentidade"
      ],
      "metadata": {
        "colab": {
          "base_uri": "https://localhost:8080/"
        },
        "id": "lvNw2cFh-Z5b",
        "outputId": "e44106f2-ac0b-4973-c351-1482c7507c26"
      },
      "execution_count": 14,
      "outputs": [
        {
          "output_type": "execute_result",
          "data": {
            "text/plain": [
              "array([[1.00000000e+00, 0.00000000e+00],\n",
              "       [2.22044605e-16, 1.00000000e+00]])"
            ]
          },
          "metadata": {},
          "execution_count": 14
        }
      ]
    },
    {
      "cell_type": "markdown",
      "source": [
        "## **Matriz Identidade**"
      ],
      "metadata": {
        "id": "_Iq5cPaHAGYj"
      }
    },
    {
      "cell_type": "code",
      "source": [
        "identidade = np.identity(3)\n",
        "identidade"
      ],
      "metadata": {
        "colab": {
          "base_uri": "https://localhost:8080/"
        },
        "id": "-8b6DmCW-kPG",
        "outputId": "dbd185c4-70e2-419c-81ed-fb1818c0df14"
      },
      "execution_count": 16,
      "outputs": [
        {
          "output_type": "execute_result",
          "data": {
            "text/plain": [
              "array([[1., 0., 0.],\n",
              "       [0., 1., 0.],\n",
              "       [0., 0., 1.]])"
            ]
          },
          "metadata": {},
          "execution_count": 16
        }
      ]
    },
    {
      "cell_type": "code",
      "source": [
        "identidade2 = np.eye(3)\n",
        "identidade2"
      ],
      "metadata": {
        "colab": {
          "base_uri": "https://localhost:8080/"
        },
        "id": "PfhUfEPnAMx7",
        "outputId": "2b4696eb-e724-47ed-f749-a6532a5902da"
      },
      "execution_count": 17,
      "outputs": [
        {
          "output_type": "execute_result",
          "data": {
            "text/plain": [
              "array([[1., 0., 0.],\n",
              "       [0., 1., 0.],\n",
              "       [0., 0., 1.]])"
            ]
          },
          "metadata": {},
          "execution_count": 17
        }
      ]
    },
    {
      "cell_type": "code",
      "source": [],
      "metadata": {
        "id": "vzkJL_ebATlY"
      },
      "execution_count": null,
      "outputs": []
    }
  ]
}