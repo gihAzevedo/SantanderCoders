{
  "nbformat": 4,
  "nbformat_minor": 0,
  "metadata": {
    "colab": {
      "provenance": [],
      "authorship_tag": "ABX9TyPaM44jMkBsAId7L8CWrs1/",
      "include_colab_link": true
    },
    "kernelspec": {
      "name": "python3",
      "display_name": "Python 3"
    },
    "language_info": {
      "name": "python"
    }
  },
  "cells": [
    {
      "cell_type": "markdown",
      "metadata": {
        "id": "view-in-github",
        "colab_type": "text"
      },
      "source": [
        "<a href=\"https://colab.research.google.com/github/gihAzevedo/SantanderCoders/blob/main/la%C3%A7os_repeti%C3%A7%C3%A3o(For).ipynb\" target=\"_parent\"><img src=\"https://colab.research.google.com/assets/colab-badge.svg\" alt=\"Open In Colab\"/></a>"
      ]
    },
    {
      "cell_type": "code",
      "execution_count": 1,
      "metadata": {
        "id": "VhtLO54zk9hb"
      },
      "outputs": [],
      "source": [
        "# Informar 3 notas com FOR e tirar a média"
      ]
    },
    {
      "cell_type": "code",
      "source": [
        "soma = 0\n",
        "for i in range(1, 4):\n",
        "  nota = float(input(f'Informe a sua nota {i}: '))\n",
        "\n",
        "  soma+= nota\n",
        "media = soma / 3\n",
        "print(f'A sua média é: {media:0.2f}')"
      ],
      "metadata": {
        "colab": {
          "base_uri": "https://localhost:8080/"
        },
        "id": "9UTpeogGmwh2",
        "outputId": "434382de-1d32-4095-ec79-24883db4f8b7"
      },
      "execution_count": 4,
      "outputs": [
        {
          "output_type": "stream",
          "name": "stdout",
          "text": [
            "Informe a sua nota 1: 10\n",
            "Informe a sua nota 2: 9\n",
            "Informe a sua nota 3: 8\n",
            "A sua média é: 9.00\n"
          ]
        }
      ]
    },
    {
      "cell_type": "code",
      "source": [],
      "metadata": {
        "id": "6eHYgiJpnWZM"
      },
      "execution_count": null,
      "outputs": []
    }
  ]
}