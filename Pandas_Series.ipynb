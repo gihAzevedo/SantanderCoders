{
 "cells": [
  {
   "cell_type": "code",
   "execution_count": 1,
   "id": "2013e402-af13-4a74-9904-eae40e5c94e0",
   "metadata": {},
   "outputs": [],
   "source": [
    "import pandas as pd"
   ]
  },
  {
   "cell_type": "code",
   "execution_count": 2,
   "id": "d1a5c128-c54c-428e-989a-9c26bf52c679",
   "metadata": {},
   "outputs": [],
   "source": [
    "lista = [12, 23, 34, 45, 56, 67]\n",
    "\n",
    "serie_pandas = pd.Series(lista)"
   ]
  },
  {
   "cell_type": "code",
   "execution_count": 3,
   "id": "e38b3d4c-76fd-403d-9014-201510d4f8b5",
   "metadata": {},
   "outputs": [
    {
     "name": "stdout",
     "output_type": "stream",
     "text": [
      "12\n"
     ]
    }
   ],
   "source": [
    "print(serie_pandas[0])"
   ]
  },
  {
   "cell_type": "code",
   "execution_count": 4,
   "id": "3900d677-f7da-400e-9680-9caaba17b1d5",
   "metadata": {},
   "outputs": [],
   "source": [
    "notas = {'MaLu': 8, 'Gih': 9.5, 'Thata': 6.2}"
   ]
  },
  {
   "cell_type": "code",
   "execution_count": 5,
   "id": "f0a2a620-cc95-4522-9887-4436dcc4074b",
   "metadata": {},
   "outputs": [],
   "source": [
    "serie_notas = pd.Series(notas)"
   ]
  },
  {
   "cell_type": "code",
   "execution_count": 6,
   "id": "e5951685-25ff-4147-826a-44277dbf28fa",
   "metadata": {},
   "outputs": [
    {
     "name": "stdout",
     "output_type": "stream",
     "text": [
      "MaLu     8.0\n",
      "Gih      9.5\n",
      "Thata    6.2\n",
      "dtype: float64\n"
     ]
    }
   ],
   "source": [
    "print(serie_notas)"
   ]
  },
  {
   "cell_type": "code",
   "execution_count": 9,
   "id": "11a2c03d-648c-47d3-bdbf-510a178d02e9",
   "metadata": {},
   "outputs": [
    {
     "name": "stdout",
     "output_type": "stream",
     "text": [
      "9.5\n"
     ]
    }
   ],
   "source": [
    "print(serie_notas['Gih'])"
   ]
  },
  {
   "cell_type": "code",
   "execution_count": 12,
   "id": "7044f515-8738-4a8a-afd8-216675d1b99e",
   "metadata": {},
   "outputs": [
    {
     "name": "stdout",
     "output_type": "stream",
     "text": [
      "count    3.000000\n",
      "mean     7.900000\n",
      "std      1.652271\n",
      "min      6.200000\n",
      "25%      7.100000\n",
      "50%      8.000000\n",
      "75%      8.750000\n",
      "max      9.500000\n",
      "dtype: float64\n"
     ]
    }
   ],
   "source": [
    "print(serie_notas.describe())"
   ]
  },
  {
   "cell_type": "code",
   "execution_count": 13,
   "id": "c39fe510-4091-4293-8ac9-e60db6a0c87e",
   "metadata": {},
   "outputs": [
    {
     "name": "stdout",
     "output_type": "stream",
     "text": [
      "23.7\n"
     ]
    }
   ],
   "source": [
    "print(serie_notas.sum())"
   ]
  },
  {
   "cell_type": "code",
   "execution_count": null,
   "id": "0b97f06d-7d36-4e68-8152-1276fe2e71eb",
   "metadata": {},
   "outputs": [],
   "source": []
  }
 ],
 "metadata": {
  "kernelspec": {
   "display_name": "Python 3 (ipykernel)",
   "language": "python",
   "name": "python3"
  },
  "language_info": {
   "codemirror_mode": {
    "name": "ipython",
    "version": 3
   },
   "file_extension": ".py",
   "mimetype": "text/x-python",
   "name": "python",
   "nbconvert_exporter": "python",
   "pygments_lexer": "ipython3",
   "version": "3.11.7"
  }
 },
 "nbformat": 4,
 "nbformat_minor": 5
}
