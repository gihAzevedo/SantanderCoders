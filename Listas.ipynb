{
  "nbformat": 4,
  "nbformat_minor": 0,
  "metadata": {
    "colab": {
      "provenance": [],
      "authorship_tag": "ABX9TyNSRFDtZFCOs3nn1VqYR1kW",
      "include_colab_link": true
    },
    "kernelspec": {
      "name": "python3",
      "display_name": "Python 3"
    },
    "language_info": {
      "name": "python"
    }
  },
  "cells": [
    {
      "cell_type": "markdown",
      "metadata": {
        "id": "view-in-github",
        "colab_type": "text"
      },
      "source": [
        "<a href=\"https://colab.research.google.com/github/gihAzevedo/SantanderCoders/blob/main/Listas.ipynb\" target=\"_parent\"><img src=\"https://colab.research.google.com/assets/colab-badge.svg\" alt=\"Open In Colab\"/></a>"
      ]
    },
    {
      "cell_type": "code",
      "execution_count": 7,
      "metadata": {
        "id": "orY2Y1M3od9W"
      },
      "outputs": [],
      "source": [
        "lista = [5, 6, 7, 8, 9, 10]"
      ]
    },
    {
      "cell_type": "code",
      "source": [
        "for elemento in lista:\n",
        "  print(elemento)"
      ],
      "metadata": {
        "colab": {
          "base_uri": "https://localhost:8080/"
        },
        "id": "J7-TFg_Vqida",
        "outputId": "f5d06077-25f4-4d8a-9d0f-95eb7281fdd3"
      },
      "execution_count": 2,
      "outputs": [
        {
          "output_type": "stream",
          "name": "stdout",
          "text": [
            "5\n",
            "6\n",
            "7\n",
            "8\n",
            "9\n",
            "10\n"
          ]
        }
      ]
    },
    {
      "cell_type": "code",
      "source": [
        "print(f'Compirmento da lista: {len(lista)}')"
      ],
      "metadata": {
        "colab": {
          "base_uri": "https://localhost:8080/"
        },
        "id": "91bCDyO4qn0Y",
        "outputId": "7df07491-2a37-4a2d-935a-18ef638f6e3c"
      },
      "execution_count": 3,
      "outputs": [
        {
          "output_type": "stream",
          "name": "stdout",
          "text": [
            "Compirmento da lista: 6\n"
          ]
        }
      ]
    },
    {
      "cell_type": "code",
      "source": [
        "# MÉTODOS DE LISTAS"
      ],
      "metadata": {
        "id": "ZmkWxFn5qzUx"
      },
      "execution_count": 4,
      "outputs": []
    },
    {
      "cell_type": "code",
      "source": [
        "# append"
      ],
      "metadata": {
        "id": "eZyM3M6Vr9GQ"
      },
      "execution_count": null,
      "outputs": []
    },
    {
      "cell_type": "code",
      "source": [
        "print(f'Antes do append: {lista}')\n",
        "lista.append(11)\n",
        "print(f'Depois do append: {lista}')"
      ],
      "metadata": {
        "colab": {
          "base_uri": "https://localhost:8080/"
        },
        "id": "uUfWLYW5rQkp",
        "outputId": "16d02470-3ecc-4739-9036-22d37690dbaa"
      },
      "execution_count": 8,
      "outputs": [
        {
          "output_type": "stream",
          "name": "stdout",
          "text": [
            "Antes do append: [5, 6, 7, 8, 9, 10]\n",
            "Depois do append: [5, 6, 7, 8, 9, 10, 11]\n"
          ]
        }
      ]
    },
    {
      "cell_type": "code",
      "source": [
        "# insert"
      ],
      "metadata": {
        "id": "rzNQoQcjrx6y"
      },
      "execution_count": 9,
      "outputs": []
    },
    {
      "cell_type": "code",
      "source": [
        "print(f'Antes do insert: {lista}')\n",
        "lista.insert(0, 4)\n",
        "print(f'Depois do insert: {lista}')"
      ],
      "metadata": {
        "colab": {
          "base_uri": "https://localhost:8080/"
        },
        "id": "kdINjZwQsD_y",
        "outputId": "31c581e4-bb04-455f-c853-5ffd5c30c68d"
      },
      "execution_count": 10,
      "outputs": [
        {
          "output_type": "stream",
          "name": "stdout",
          "text": [
            "Antes do insert: [5, 6, 7, 8, 9, 10, 11]\n",
            "Depois do insert: [4, 5, 6, 7, 8, 9, 10, 11]\n"
          ]
        }
      ]
    },
    {
      "cell_type": "code",
      "source": [
        "# extend"
      ],
      "metadata": {
        "id": "UrcbELpxsNpD"
      },
      "execution_count": 11,
      "outputs": []
    },
    {
      "cell_type": "code",
      "source": [
        "lista2 = [12, 13, 14, 15]"
      ],
      "metadata": {
        "id": "1lTjrrVVsSga"
      },
      "execution_count": 12,
      "outputs": []
    },
    {
      "cell_type": "code",
      "source": [
        "lista.extend(lista2)"
      ],
      "metadata": {
        "id": "96LioWVXsagj"
      },
      "execution_count": 13,
      "outputs": []
    },
    {
      "cell_type": "code",
      "source": [
        "print(lista)"
      ],
      "metadata": {
        "colab": {
          "base_uri": "https://localhost:8080/"
        },
        "id": "loZ3yj7csddU",
        "outputId": "b96cb527-213e-4378-dad1-c3ad7feb1d3f"
      },
      "execution_count": 14,
      "outputs": [
        {
          "output_type": "stream",
          "name": "stdout",
          "text": [
            "[4, 5, 6, 7, 8, 9, 10, 11, 12, 13, 14, 15]\n"
          ]
        }
      ]
    },
    {
      "cell_type": "code",
      "source": [
        "# pop (retira pelo indice)"
      ],
      "metadata": {
        "id": "YVWuktbyshwj"
      },
      "execution_count": 19,
      "outputs": []
    },
    {
      "cell_type": "code",
      "source": [
        "lista.pop(0)"
      ],
      "metadata": {
        "colab": {
          "base_uri": "https://localhost:8080/"
        },
        "id": "5bvozJkDsvhq",
        "outputId": "699694d8-5894-4c11-d944-279bbcd97a44"
      },
      "execution_count": 16,
      "outputs": [
        {
          "output_type": "execute_result",
          "data": {
            "text/plain": [
              "4"
            ]
          },
          "metadata": {},
          "execution_count": 16
        }
      ]
    },
    {
      "cell_type": "code",
      "source": [
        "print(lista)"
      ],
      "metadata": {
        "colab": {
          "base_uri": "https://localhost:8080/"
        },
        "id": "MHdTSJbbsyhb",
        "outputId": "7227a272-f8eb-4987-8383-560e9dc04f4f"
      },
      "execution_count": 17,
      "outputs": [
        {
          "output_type": "stream",
          "name": "stdout",
          "text": [
            "[5, 6, 7, 8, 9, 10, 11, 12, 13, 14, 15]\n"
          ]
        }
      ]
    },
    {
      "cell_type": "code",
      "source": [
        "# Remove (Retira pelo o que foi \"buscado\")"
      ],
      "metadata": {
        "id": "OVihotibs227"
      },
      "execution_count": 20,
      "outputs": []
    },
    {
      "cell_type": "code",
      "source": [
        "print(lista)\n",
        "lista.remove(14)\n",
        "print(lista)"
      ],
      "metadata": {
        "colab": {
          "base_uri": "https://localhost:8080/"
        },
        "id": "dqCJOLm8s4Xk",
        "outputId": "885c6763-e0f6-4e62-a2bd-567f0831c4c2"
      },
      "execution_count": 21,
      "outputs": [
        {
          "output_type": "stream",
          "name": "stdout",
          "text": [
            "[5, 6, 7, 8, 9, 10, 11, 12, 13, 14, 15]\n",
            "[5, 6, 7, 8, 9, 10, 11, 12, 13, 15]\n"
          ]
        }
      ]
    },
    {
      "cell_type": "code",
      "source": [
        "# Count"
      ],
      "metadata": {
        "id": "hqrBOBDGtLc0"
      },
      "execution_count": 22,
      "outputs": []
    },
    {
      "cell_type": "code",
      "source": [
        "lista3 = [5,5,5]"
      ],
      "metadata": {
        "id": "qEvz5s6BtOsy"
      },
      "execution_count": 23,
      "outputs": []
    },
    {
      "cell_type": "code",
      "source": [
        "lista.extend(lista3)\n",
        "print(f'Quantidade de 5 na lista: {lista.count(5)}')"
      ],
      "metadata": {
        "colab": {
          "base_uri": "https://localhost:8080/"
        },
        "id": "_pRKp4A2tekE",
        "outputId": "5d57b8ea-17fa-4e7a-94e9-8e038c7d7502"
      },
      "execution_count": 24,
      "outputs": [
        {
          "output_type": "stream",
          "name": "stdout",
          "text": [
            "Quantidade de 5 na lista: 4\n"
          ]
        }
      ]
    },
    {
      "cell_type": "code",
      "source": [
        "# index"
      ],
      "metadata": {
        "id": "kmtsR21wtx40"
      },
      "execution_count": 26,
      "outputs": []
    },
    {
      "cell_type": "code",
      "source": [
        "print(f'Qual o indice do elemento 10: {lista.index(10)}')"
      ],
      "metadata": {
        "colab": {
          "base_uri": "https://localhost:8080/"
        },
        "id": "AdkullDFt2yc",
        "outputId": "1b61d72a-d114-4409-d05f-913455e5d57c"
      },
      "execution_count": 27,
      "outputs": [
        {
          "output_type": "stream",
          "name": "stdout",
          "text": [
            "Qual o indice do elemento 10: 5\n"
          ]
        }
      ]
    },
    {
      "cell_type": "code",
      "source": [
        "# Sort"
      ],
      "metadata": {
        "id": "5SjxtUw9t877"
      },
      "execution_count": 28,
      "outputs": []
    },
    {
      "cell_type": "code",
      "source": [
        "print(lista)\n",
        "lista.sort(reverse=True)\n",
        "print(lista)\n",
        "lista.sort()\n",
        "print(lista)"
      ],
      "metadata": {
        "colab": {
          "base_uri": "https://localhost:8080/"
        },
        "id": "yAHKTCsDuCDe",
        "outputId": "fed6f113-d6c9-47e9-f5fc-5870186c8ace"
      },
      "execution_count": 33,
      "outputs": [
        {
          "output_type": "stream",
          "name": "stdout",
          "text": [
            "[15, 13, 12, 11, 10, 9, 8, 7, 6, 5, 5, 5, 5]\n",
            "[15, 13, 12, 11, 10, 9, 8, 7, 6, 5, 5, 5, 5]\n",
            "[5, 5, 5, 5, 6, 7, 8, 9, 10, 11, 12, 13, 15]\n"
          ]
        }
      ]
    },
    {
      "cell_type": "code",
      "source": [],
      "metadata": {
        "id": "5kBBHKhNuGS0"
      },
      "execution_count": null,
      "outputs": []
    }
  ]
}