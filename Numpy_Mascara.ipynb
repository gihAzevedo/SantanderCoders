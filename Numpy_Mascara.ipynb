{
 "cells": [
  {
   "cell_type": "code",
   "execution_count": 1,
   "id": "61bd1103-6dc3-4cb1-b712-16a207d75a89",
   "metadata": {},
   "outputs": [],
   "source": [
    "import numpy as np"
   ]
  },
  {
   "cell_type": "code",
   "execution_count": 2,
   "id": "fc1cdea1-c8be-423d-836b-d85166eb1185",
   "metadata": {},
   "outputs": [],
   "source": [
    "is_covid_positive = np.array(['Yes', 'No', 'No', 'Yes', 'Yes', 'No'])"
   ]
  },
  {
   "cell_type": "code",
   "execution_count": 3,
   "id": "5ccbc70c-270d-47a5-ad77-5d1062981d06",
   "metadata": {},
   "outputs": [
    {
     "name": "stdout",
     "output_type": "stream",
     "text": [
      "['Yes' 'No' 'No' 'Yes' 'Yes' 'No']\n"
     ]
    }
   ],
   "source": [
    "print(is_covid_positive)"
   ]
  },
  {
   "cell_type": "code",
   "execution_count": 6,
   "id": "a485fdf8-8911-423a-ade9-8d6760ab15ef",
   "metadata": {},
   "outputs": [
    {
     "name": "stdout",
     "output_type": "stream",
     "text": [
      "[ True False False  True  True False]\n"
     ]
    }
   ],
   "source": [
    "mask = (is_covid_positive == 'Yes')\n",
    "print(mask)"
   ]
  },
  {
   "cell_type": "code",
   "execution_count": 8,
   "id": "1eb78753-c577-40fe-b828-0d5ed26c6efc",
   "metadata": {},
   "outputs": [],
   "source": [
    "is_covid_positive[mask] = 'C19'"
   ]
  },
  {
   "cell_type": "code",
   "execution_count": 9,
   "id": "0c89432d-01a2-4efa-bce9-0cb0e3288f6f",
   "metadata": {},
   "outputs": [
    {
     "name": "stdout",
     "output_type": "stream",
     "text": [
      "['C19' 'No' 'No' 'C19' 'C19' 'No']\n"
     ]
    }
   ],
   "source": [
    "print(is_covid_positive)"
   ]
  },
  {
   "cell_type": "code",
   "execution_count": 10,
   "id": "d837e3f1-f081-4fff-8570-c15e9f2e33aa",
   "metadata": {},
   "outputs": [],
   "source": [
    "notas = np.array([4.9, 6.5, 3.2, 6.7])"
   ]
  },
  {
   "cell_type": "code",
   "execution_count": 11,
   "id": "9d83a8e4-d838-464f-a0f7-c99c9f54304e",
   "metadata": {},
   "outputs": [],
   "source": [
    "mask_notas = notas >= 5"
   ]
  },
  {
   "cell_type": "code",
   "execution_count": 18,
   "id": "b1873724-bb29-49f5-aa04-9f79dddc6ed7",
   "metadata": {},
   "outputs": [
    {
     "name": "stdout",
     "output_type": "stream",
     "text": [
      "[False  True False  True]\n"
     ]
    }
   ],
   "source": [
    "print(mask_notas)"
   ]
  },
  {
   "cell_type": "code",
   "execution_count": 23,
   "id": "8b6042dd-5cc8-4929-a6ef-f1fb57215ef4",
   "metadata": {},
   "outputs": [],
   "source": [
    "## Exercicio - Faça um filtro que busque as notas dos alunos de recuperação"
   ]
  },
  {
   "cell_type": "code",
   "execution_count": 21,
   "id": "d457182a-ef18-4a9d-9c0e-569359065d07",
   "metadata": {},
   "outputs": [],
   "source": [
    "mask_recuperacao = notas < 5"
   ]
  },
  {
   "cell_type": "code",
   "execution_count": 22,
   "id": "44ea2164-e83e-420a-a829-1b07415686c5",
   "metadata": {},
   "outputs": [
    {
     "name": "stdout",
     "output_type": "stream",
     "text": [
      "[4.9 3.2]\n"
     ]
    }
   ],
   "source": [
    "print(notas[mask_recuperacao])"
   ]
  },
  {
   "cell_type": "code",
   "execution_count": null,
   "id": "aa07b4c6-92a5-4aff-869c-2b9fb836e832",
   "metadata": {},
   "outputs": [],
   "source": []
  }
 ],
 "metadata": {
  "kernelspec": {
   "display_name": "Python 3 (ipykernel)",
   "language": "python",
   "name": "python3"
  },
  "language_info": {
   "codemirror_mode": {
    "name": "ipython",
    "version": 3
   },
   "file_extension": ".py",
   "mimetype": "text/x-python",
   "name": "python",
   "nbconvert_exporter": "python",
   "pygments_lexer": "ipython3",
   "version": "3.11.7"
  }
 },
 "nbformat": 4,
 "nbformat_minor": 5
}
