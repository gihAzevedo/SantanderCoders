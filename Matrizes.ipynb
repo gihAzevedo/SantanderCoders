{
  "nbformat": 4,
  "nbformat_minor": 0,
  "metadata": {
    "colab": {
      "provenance": [],
      "authorship_tag": "ABX9TyPOBZ4SezNS0v6uWDLclcw+",
      "include_colab_link": true
    },
    "kernelspec": {
      "name": "python3",
      "display_name": "Python 3"
    },
    "language_info": {
      "name": "python"
    }
  },
  "cells": [
    {
      "cell_type": "markdown",
      "metadata": {
        "id": "view-in-github",
        "colab_type": "text"
      },
      "source": [
        "<a href=\"https://colab.research.google.com/github/gihAzevedo/SantanderCoders/blob/main/Matrizes.ipynb\" target=\"_parent\"><img src=\"https://colab.research.google.com/assets/colab-badge.svg\" alt=\"Open In Colab\"/></a>"
      ]
    },
    {
      "cell_type": "code",
      "execution_count": 1,
      "metadata": {
        "id": "Ehy5N0K6YVVt"
      },
      "outputs": [],
      "source": [
        "import numpy as np"
      ]
    },
    {
      "cell_type": "code",
      "source": [
        "matrizA = np.array([[1, 2], [3, 4]])\n",
        "matrizB = np.array([[5, 6], [7, 8]])"
      ],
      "metadata": {
        "id": "Uit6na_4Ybtk"
      },
      "execution_count": 8,
      "outputs": []
    },
    {
      "cell_type": "code",
      "source": [
        "somaMatriz = matrizA + matrizB\n",
        "somaMatriz"
      ],
      "metadata": {
        "colab": {
          "base_uri": "https://localhost:8080/"
        },
        "id": "jaElhkV8Yk-g",
        "outputId": "31a221f8-f6db-4f09-ba28-9ffa33af49b9"
      },
      "execution_count": 10,
      "outputs": [
        {
          "output_type": "execute_result",
          "data": {
            "text/plain": [
              "array([[ 6,  8],\n",
              "       [10, 12]])"
            ]
          },
          "metadata": {},
          "execution_count": 10
        }
      ]
    },
    {
      "cell_type": "code",
      "source": [
        "subtracaoMatriz = matrizA - matrizB\n",
        "subtracaoMatriz"
      ],
      "metadata": {
        "colab": {
          "base_uri": "https://localhost:8080/"
        },
        "id": "sLYL2zM-Zpoi",
        "outputId": "a147ed27-046a-4de9-b696-b2c44013ba97"
      },
      "execution_count": 12,
      "outputs": [
        {
          "output_type": "execute_result",
          "data": {
            "text/plain": [
              "array([[-4, -4],\n",
              "       [-4, -4]])"
            ]
          },
          "metadata": {},
          "execution_count": 12
        }
      ]
    },
    {
      "cell_type": "code",
      "source": [
        "multMatriz = np.dot(matrizA, matrizB)\n",
        "multMatriz"
      ],
      "metadata": {
        "colab": {
          "base_uri": "https://localhost:8080/"
        },
        "id": "j3z6sYuhaQMe",
        "outputId": "0e4d0b0b-143d-45ce-cb85-a040a1ef709b"
      },
      "execution_count": 13,
      "outputs": [
        {
          "output_type": "execute_result",
          "data": {
            "text/plain": [
              "array([[19, 22],\n",
              "       [43, 50]])"
            ]
          },
          "metadata": {},
          "execution_count": 13
        }
      ]
    },
    {
      "cell_type": "code",
      "source": [
        "\n",
        "# Exercício 1\n",
        "A = np.array([[1, 2, 3], [4, 5, 6]])\n",
        "B = np.array([[7, 8, 9, 10], [11, 12, 13, 14], [15, 16, 17, 18]])\n",
        "\n",
        "C = np.dot(A, B)  # ou C = A @ B\n",
        "print(\"Matriz C:\")\n",
        "print(C)\n",
        "\n",
        "# Exercício 2\n",
        "D = np.array([[1, 2], [3, 4], [5, 6]])\n",
        "E = np.array([[7, 8], [9, 10]])\n",
        "\n",
        "F = np.dot(D, E)  # ou F = D @ E\n",
        "print(\"\\nMatriz F:\")\n",
        "print(F)\n"
      ],
      "metadata": {
        "colab": {
          "base_uri": "https://localhost:8080/"
        },
        "id": "xeSgYLQ6a_px",
        "outputId": "13af235e-0d65-4905-c50e-74ba6d57a882"
      },
      "execution_count": 14,
      "outputs": [
        {
          "output_type": "stream",
          "name": "stdout",
          "text": [
            "Matriz C:\n",
            "[[ 74  80  86  92]\n",
            " [173 188 203 218]]\n",
            "\n",
            "Matriz F:\n",
            "[[ 25  28]\n",
            " [ 57  64]\n",
            " [ 89 100]]\n"
          ]
        }
      ]
    }
  ]
}